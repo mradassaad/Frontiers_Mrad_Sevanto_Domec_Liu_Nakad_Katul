{
 "cells": [
  {
   "cell_type": "markdown",
   "metadata": {},
   "source": [
    "# Biochemical demand of photosynthesis\n",
    "\n",
    "Check Norman and Campbell pages 239 and 240\n",
    "\n",
    "We will use the prescription of A that is smooth, the one that encorporates $\\theta$ and $\\beta$ (eqn 14.23) along with supply A = g(ca - ci)"
   ]
  },
  {
   "cell_type": "code",
   "execution_count": 1,
   "metadata": {},
   "outputs": [],
   "source": []
  },
  {
   "cell_type": "code",
   "execution_count": null,
   "metadata": {},
   "outputs": [],
   "source": []
  },
  {
   "cell_type": "markdown",
   "metadata": {
    "collapsed": true
   },
   "source": [
    "# Manzoni approach\n",
    "\n",
    "$\\frac{d\\lambda}{dt} = - (\\frac{\\partial A}{\\partial x} + \\lambda \\frac{\\partial f}{\\partial x})$\n",
    "\n",
    "$\\frac{\\partial A}{\\partial g} + \\lambda \\frac{\\partial f}{\\partial g} = 0$\n",
    "\n",
    "$\\frac{dx}{dt} = f(x,g)$\n",
    "\n",
    "Initial condition: $x(0)$\n",
    "\n",
    "Boundary condition: $\\lambda(T) = \\frac{\\partial J_T}{\\partial x}|_{t=T}$\n",
    "\n",
    "A and f are computed as follows:\n",
    "\n",
    "Carbon gain $A = \\frac{g*c_a*k}{g+k}$\n",
    "\n",
    "Evapotranspiration $E = \\nu*a*g*VPD$\n",
    "\n",
    "Uncontrolled losses $L = \\gamma*x(t)^c$\n",
    "\n",
    "Water losses from the soil $f = - \\frac{E+L}{n*Z_r} = -\\beta*x(t)^c - \\alpha*g*VPD$, where $\\beta = \\gamma/(n*Z_r)$ and $\\alpha = \\nu*a/(n*Z_r)$\n",
    "\n",
    "### Writing the derivatives explicitely\n",
    "\n",
    "$\\frac{\\partial A}{\\partial x} = 0$, $\\frac{\\partial A}{\\partial g} = \\frac{c_a*k}{g+k} + \\frac{g*c_a*k}{(g+k)^2}$\n",
    "\n",
    "$\\frac{\\partial f}{\\partial x} = -\\beta*c*x^{c-1}, \\frac{\\partial f}{\\partial g} = -\\alpha*VPD $\n",
    "\n",
    "$\\frac{c_a*k}{g+k} + \\frac{g*c_a*k}{(g+k)^2} + \\lambda*-\\alpha*VPD=0 \\rightarrow g(t) = k(\\sqrt{\\frac{c_a}{\\alpha*VPD*\\lambda}}-1)$\n",
    "\n",
    "$\\frac{d\\lambda}{dt} =  \\lambda*\\beta*c*x^{c-1}$\n",
    "\n",
    "$\\frac{dx}{dt} = -\\beta*x(t)^c - \\alpha*g*VPD$"
   ]
  }
 ],
 "metadata": {
  "kernelspec": {
   "display_name": "Python 3",
   "language": "python",
   "name": "python3"
  },
  "language_info": {
   "codemirror_mode": {
    "name": "ipython",
    "version": 3
   },
   "file_extension": ".py",
   "mimetype": "text/x-python",
   "name": "python",
   "nbconvert_exporter": "python",
   "pygments_lexer": "ipython3",
   "version": "3.6.5"
  }
 },
 "nbformat": 4,
 "nbformat_minor": 1
}
